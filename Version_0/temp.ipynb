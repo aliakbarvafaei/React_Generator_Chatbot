{
 "cells": [
  {
   "cell_type": "code",
   "execution_count": 1,
   "metadata": {},
   "outputs": [
    {
     "name": "stdout",
     "output_type": "stream",
     "text": [
      "JSON file 'output.json' created successfully.\n"
     ]
    }
   ],
   "source": [
    "import os\n",
    "import json\n",
    "\n",
    "# Define the root directory where folders are located\n",
    "root_directory = \"elements\"  # Change this to your actual root directory\n",
    "\n",
    "# Initialize a list to store results\n",
    "results = []\n",
    "\n",
    "# Iterate through each folder in the root directory\n",
    "for folder_name in os.listdir(root_directory):\n",
    "    folder_path = os.path.join(root_directory, folder_name)\n",
    "    \n",
    "    if os.path.isdir(folder_path):\n",
    "        code_content = None\n",
    "        index_content = None\n",
    "        description_content = None\n",
    "        \n",
    "        # Read Code.tsx file\n",
    "        code_file_path = os.path.join(folder_path, \"Code.tsx\")\n",
    "        if os.path.exists(code_file_path):\n",
    "            with open(code_file_path, \"r\", encoding=\"utf-8\") as file:\n",
    "                code_content = file.read()\n",
    "        \n",
    "        # Read index.txt file\n",
    "        index_file_path = os.path.join(folder_path, \"index.txt\")\n",
    "        if os.path.exists(index_file_path):\n",
    "            with open(index_file_path, \"r\", encoding=\"utf-8\") as file:\n",
    "                index_content = file.read()\n",
    "\n",
    "        # Read description.txt file\n",
    "        description_file_path = os.path.join(folder_path, \"description.txt\")\n",
    "        if os.path.exists(description_file_path):\n",
    "            with open(description_file_path, \"r\", encoding=\"utf-8\") as file:\n",
    "                description_content = file.read()\n",
    "        \n",
    "        # Append result to the list\n",
    "        results.append({\n",
    "            \"elementType\": folder_name,\n",
    "            \"code\": code_content,\n",
    "            \"meta\": index_content,\n",
    "            \"description\": description_content\n",
    "        })\n",
    "\n",
    "# Save results to a JSON file\n",
    "output_file = \"output.json\"\n",
    "with open(output_file, \"w\", encoding=\"utf-8\") as json_file:\n",
    "    json.dump(results, json_file, ensure_ascii=False, indent=2)\n",
    "\n",
    "print(f\"JSON file '{output_file}' created successfully.\")"
   ]
  },
  {
   "cell_type": "code",
   "execution_count": 2,
   "metadata": {},
   "outputs": [],
   "source": [
    "import lancedb\n",
    "import langchain\n",
    "from langchain.embeddings import OpenAIEmbeddings\n",
    "from langchain.vectorstores import LanceDB\n",
    "from langchain.chat_models import ChatOpenAI\n",
    "from langgraph.graph import StateGraph, END, START\n",
    "from langchain.schema import SystemMessage, HumanMessage\n",
    "from typing import List, Dict\n",
    "import logging\n"
   ]
  },
  {
   "cell_type": "code",
   "execution_count": 3,
   "metadata": {},
   "outputs": [
    {
     "name": "stderr",
     "output_type": "stream",
     "text": [
      "C:\\Users\\Iranian\\AppData\\Local\\Temp\\ipykernel_12172\\4211583416.py:29: LangChainDeprecationWarning: The class `ChatOllama` was deprecated in LangChain 0.3.1 and will be removed in 1.0.0. An updated version of the class exists in the :class:`~langchain-ollama package and should be used instead. To use it run `pip install -U :class:`~langchain-ollama` and import as `from :class:`~langchain_ollama import ChatOllama``.\n",
      "  ollama_model = ChatOllama(\n"
     ]
    }
   ],
   "source": [
    "from langchain_openai import ChatOpenAI\n",
    "import os\n",
    "from pydantic import BaseModel, Field\n",
    "from typing import Literal, Union\n",
    "from langchain.chat_models import ChatOllama\n",
    "import os\n",
    "\n",
    "logging.basicConfig(format=\"%(asctime)s - %(message)s\", level=logging.INFO)\n",
    "\n",
    "azure_base_url = \"https://models.inference.ai.azure.com\"\n",
    "together_base_url = \"https://api.together.xyz/v1\"\n",
    "ollama_base_url = \"http://localhost:11434\"\n",
    "\n",
    "github_token = os.environ[\"GITHUB_API_KEY\"]\n",
    "\n",
    "llm = ChatOpenAI(\n",
    "    # model= \"gpt-4o\",\n",
    "    model = \"gpt-4o-mini\",\n",
    "    api_key= github_token,\n",
    "    base_url= azure_base_url,\n",
    ")\n",
    "\n",
    "llama_llm = ChatOpenAI(\n",
    "    model=\"meta-llama/Llama-3.3-70B-Instruct-Turbo\",\n",
    "    api_key=github_token,\n",
    "    base_url=azure_base_url,\n",
    ")\n",
    "\n",
    "ollama_model = ChatOllama(\n",
    "    model=\"llama3.2:latest\", \n",
    "    base_url= ollama_base_url\n",
    ")\n",
    "\n",
    "class StateDefinition(BaseModel):\n",
    "    name: str = Field(..., title=\"State Name\")\n",
    "    defaultValue: Union[str, int, bool, dict, list, None] = Field(None, title=\"Default Value\")\n",
    "    type: Literal[\"STRING\", \"NUMBER\", \"BOOLEAN\", \"OBJECT\", \"ARRAY\"] = Field(..., title=\"Type of State\")\n",
    "\n",
    "class PropDefinition(BaseModel):\n",
    "    name: str = Field(..., title=\"Prop Name\")\n",
    "    type: Literal[\"STRING\", \"NUMBER\", \"BOOLEAN\", \"OBJECT\", \"ARRAY\", \"FUNCTION\"] = Field(..., title=\"Type of Prop\")\n",
    "\n",
    "class FunctionDefinition(BaseModel):\n",
    "    name: str = Field(..., title=\"Function Name\")\n",
    "    inputParams: List[str] = Field(None, title=\"Input Parameters of Function\")\n",
    "    code: str = Field(..., title=\"Function code\")\n",
    "\n",
    "class ComponentDefinition(BaseModel):\n",
    "    title: str = Field(\"\", title=\"Component Title\")\n",
    "    description: str = Field(\"\", title=\"Component Description\")\n",
    "    states: List[StateDefinition] = Field([], title=\"States used in Component\")\n",
    "    props: List[PropDefinition] = Field([], title=\"Props used in Component\")\n",
    "    functions: List[FunctionDefinition] = Field([], title=\"Functions used in Component\")\n",
    "    jsx_code: str = Field(..., title=\"jsx code of Component\")\n",
    "    component_code: str = Field(..., title=\"code of Component\")\n",
    "    elementTypes: List[str] = Field([], title=\"Element Types used in Component\")\n",
    "\n",
    "class TaskDefinition(BaseModel):\n",
    "    title: str = Field(..., title=\"Task Title\")\n",
    "    result_task: ComponentDefinition = Field(None, title=\"Result Task\")\n",
    "\n",
    "# Define Agent State\n",
    "class AgentState(BaseModel):\n",
    "    query: str\n",
    "    is_relevant: bool = True\n",
    "    tasks: List[TaskDefinition] = []\n",
    "    final_result: ComponentDefinition = None"
   ]
  },
  {
   "cell_type": "code",
   "execution_count": 4,
   "metadata": {},
   "outputs": [],
   "source": [
    "# if you want to use the Gemma, you will need to authenticate with HuggingFace, Skip this step, if you have the model already downloaded\n",
    "# from huggingface_hub import login\n",
    "# login()"
   ]
  },
  {
   "cell_type": "code",
   "execution_count": 5,
   "metadata": {},
   "outputs": [
    {
     "name": "stderr",
     "output_type": "stream",
     "text": [
      "2025-02-28 10:38:51,353 - Load pretrained SentenceTransformer: BAAI/bge-small-en-v1.5\n"
     ]
    },
    {
     "data": {
      "application/vnd.jupyter.widget-view+json": {
       "model_id": "7899f8ce27ee49fdb79b8f404d5626d2",
       "version_major": 2,
       "version_minor": 0
      },
      "text/plain": [
       "Batches:   0%|          | 0/1 [00:00<?, ?it/s]"
      ]
     },
     "metadata": {},
     "output_type": "display_data"
    },
    {
     "data": {
      "application/vnd.jupyter.widget-view+json": {
       "model_id": "7b79a671491c4f279d7b58981ad32307",
       "version_major": 2,
       "version_minor": 0
      },
      "text/plain": [
       "Batches:   0%|          | 0/2 [00:00<?, ?it/s]"
      ]
     },
     "metadata": {},
     "output_type": "display_data"
    }
   ],
   "source": [
    "from lancedb.embeddings import get_registry\n",
    "embedding_model = get_registry().get(\"sentence-transformers\").create(name=\"BAAI/bge-small-en-v1.5\")\n",
    "\n",
    "#You should put HF_TOKEN in the Notebook enviroment variables\n",
    "from lancedb.pydantic import LanceModel, Vector\n",
    "\n",
    "# Connect to LanceDB (Vector Database for JSX Retrieval)\n",
    "db = lancedb.connect(\".lancedb\")  \n",
    "# vector_store = LanceDB(db, OpenAIEmbeddings())\n",
    "\n",
    "data = []\n",
    "# read data from output.json file\n",
    "with open(\"output.json\", \"r\", encoding=\"utf-8\") as file:\n",
    "    data = json.load(file)\n",
    "\n",
    "class ChunksOfData(LanceModel):\n",
    "    elementType: str = \"\"\n",
    "    code: str | None = None  # Allow null values\n",
    "    meta: str = \"\"\n",
    "    description: str = embedding_model.SourceField()\n",
    "    vector: Vector(embedding_model.ndims()) = embedding_model.VectorField()\n",
    "\n",
    "\n",
    "tbl = db.create_table(\n",
    "    \"react_elements\",\n",
    "    data= data,\n",
    "    schema=ChunksOfData,\n",
    "    exist_ok=True,\n",
    "    mode=\"overwrite\"\n",
    ")"
   ]
  },
  {
   "cell_type": "code",
   "execution_count": 6,
   "metadata": {},
   "outputs": [
    {
     "data": {
      "application/vnd.jupyter.widget-view+json": {
       "model_id": "886ef2aa8d98408bab6629febfe40467",
       "version_major": 2,
       "version_minor": 0
      },
      "text/plain": [
       "Batches:   0%|          | 0/1 [00:00<?, ?it/s]"
      ]
     },
     "metadata": {},
     "output_type": "display_data"
    },
    {
     "data": {
      "text/html": [
       "<div>\n",
       "<style scoped>\n",
       "    .dataframe tbody tr th:only-of-type {\n",
       "        vertical-align: middle;\n",
       "    }\n",
       "\n",
       "    .dataframe tbody tr th {\n",
       "        vertical-align: top;\n",
       "    }\n",
       "\n",
       "    .dataframe thead th {\n",
       "        text-align: right;\n",
       "    }\n",
       "</style>\n",
       "<table border=\"1\" class=\"dataframe\">\n",
       "  <thead>\n",
       "    <tr style=\"text-align: right;\">\n",
       "      <th></th>\n",
       "      <th>elementType</th>\n",
       "      <th>code</th>\n",
       "      <th>meta</th>\n",
       "      <th>description</th>\n",
       "      <th>vector</th>\n",
       "      <th>_distance</th>\n",
       "    </tr>\n",
       "  </thead>\n",
       "  <tbody>\n",
       "    <tr>\n",
       "      <th>0</th>\n",
       "      <td>STEPER_CONTAINER</td>\n",
       "      <td>import React, { HTMLAttributes, useEffect } fr...</td>\n",
       "      <td>{\\n  elementType: \"KdStepRoot\",\\n  children: [...</td>\n",
       "      <td>The StepperContainer component is a customizab...</td>\n",
       "      <td>[-0.081205554, -0.016815962, 0.015941583, 0.08...</td>\n",
       "      <td>0.498129</td>\n",
       "    </tr>\n",
       "    <tr>\n",
       "      <th>1</th>\n",
       "      <td>STEPER_ELEMENT</td>\n",
       "      <td>import React from \"react\";\\nimport Stepper, { ...</td>\n",
       "      <td>{\\n  elementType: \"KdStepContent\",\\n  children...</td>\n",
       "      <td>The StepperElement component is a customizable...</td>\n",
       "      <td>[-0.07910837, -0.005119668, 0.024634406, 0.075...</td>\n",
       "      <td>0.522580</td>\n",
       "    </tr>\n",
       "    <tr>\n",
       "      <th>2</th>\n",
       "      <td>DIVIDER</td>\n",
       "      <td>import { Divider, DividerProps } from \"@mui/ma...</td>\n",
       "      <td>{\\n  elementType: \"KdpaDivider\",\\n  children: ...</td>\n",
       "      <td>The Divider component is a customizable divide...</td>\n",
       "      <td>[-0.05971071, 0.013275463, 0.042954285, 0.0310...</td>\n",
       "      <td>0.838013</td>\n",
       "    </tr>\n",
       "    <tr>\n",
       "      <th>3</th>\n",
       "      <td>LAYOUT_ROW</td>\n",
       "      <td>import React from \"react\";\\nimport Grid, { Gri...</td>\n",
       "      <td>{\\n  elementType: \"KdpaGrid\",\\n  children: [],...</td>\n",
       "      <td>The LayoutRow component is a simple customizab...</td>\n",
       "      <td>[-0.043467417, -0.0008123551, 0.049763795, -0....</td>\n",
       "      <td>0.871431</td>\n",
       "    </tr>\n",
       "    <tr>\n",
       "      <th>4</th>\n",
       "      <td>TAB_CONTAINER</td>\n",
       "      <td>import * as Tabs from \"@radix-ui/react-tabs\";\\...</td>\n",
       "      <td>{\\n  elementType: \"KdTabsRoot\",\\n  children: [...</td>\n",
       "      <td>The TabConatiner component is a customizable t...</td>\n",
       "      <td>[-0.031779632, 0.052633706, 0.0034408066, 0.05...</td>\n",
       "      <td>0.908668</td>\n",
       "    </tr>\n",
       "  </tbody>\n",
       "</table>\n",
       "</div>"
      ],
      "text/plain": [
       "        elementType                                               code  \\\n",
       "0  STEPER_CONTAINER  import React, { HTMLAttributes, useEffect } fr...   \n",
       "1    STEPER_ELEMENT  import React from \"react\";\\nimport Stepper, { ...   \n",
       "2           DIVIDER  import { Divider, DividerProps } from \"@mui/ma...   \n",
       "3        LAYOUT_ROW  import React from \"react\";\\nimport Grid, { Gri...   \n",
       "4     TAB_CONTAINER  import * as Tabs from \"@radix-ui/react-tabs\";\\...   \n",
       "\n",
       "                                                meta  \\\n",
       "0  {\\n  elementType: \"KdStepRoot\",\\n  children: [...   \n",
       "1  {\\n  elementType: \"KdStepContent\",\\n  children...   \n",
       "2  {\\n  elementType: \"KdpaDivider\",\\n  children: ...   \n",
       "3  {\\n  elementType: \"KdpaGrid\",\\n  children: [],...   \n",
       "4  {\\n  elementType: \"KdTabsRoot\",\\n  children: [...   \n",
       "\n",
       "                                         description  \\\n",
       "0  The StepperContainer component is a customizab...   \n",
       "1  The StepperElement component is a customizable...   \n",
       "2  The Divider component is a customizable divide...   \n",
       "3  The LayoutRow component is a simple customizab...   \n",
       "4  The TabConatiner component is a customizable t...   \n",
       "\n",
       "                                              vector  _distance  \n",
       "0  [-0.081205554, -0.016815962, 0.015941583, 0.08...   0.498129  \n",
       "1  [-0.07910837, -0.005119668, 0.024634406, 0.075...   0.522580  \n",
       "2  [-0.05971071, 0.013275463, 0.042954285, 0.0310...   0.838013  \n",
       "3  [-0.043467417, -0.0008123551, 0.049763795, -0....   0.871431  \n",
       "4  [-0.031779632, 0.052633706, 0.0034408066, 0.05...   0.908668  "
      ]
     },
     "execution_count": 6,
     "metadata": {},
     "output_type": "execute_result"
    }
   ],
   "source": [
    "tbl = db.open_table(\"react_elements\")\n",
    "query = \"stepper\"\n",
    "\n",
    "res= tbl.search(query).limit(5).to_pandas()\n",
    "res"
   ]
  },
  {
   "cell_type": "code",
   "execution_count": 7,
   "metadata": {},
   "outputs": [],
   "source": [
    "from pydantic import BaseModel, Field\n",
    "\n",
    "class RelevantUserQuery(BaseModel):\n",
    "    is_relevant : bool = Field(description=\"boolean for relevance or not\")\n",
    "\n",
    "# **Relevance Check Node**\n",
    "def check_relevance(state: AgentState):\n",
    "    prompt = f\"Is the following request related to front-end UI component generation? \\n\\nQuery: {state.query}\"\n",
    "    \n",
    "    structured_model = llm.with_structured_output(RelevantUserQuery)\n",
    "    \n",
    "    response = structured_model.invoke([SystemMessage(content=\"You determine if a query is relevant to UI development.\"),\n",
    "                           HumanMessage(content=prompt)])\n",
    "        \n",
    "    logging.info(f\"Relevance Check Response: {response.is_relevant}\")\n",
    "    \n",
    "    state.is_relevant = response.is_relevant\n",
    "    return state"
   ]
  },
  {
   "cell_type": "code",
   "execution_count": 8,
   "metadata": {},
   "outputs": [],
   "source": [
    "from pydantic import BaseModel, Field\n",
    "\n",
    "class TaskList(BaseModel):\n",
    "    tasks : List[str] = Field(description=\"list of tasks\")\n",
    "\n",
    "# **Task Processing Node**\n",
    "def process_query(state: AgentState):\n",
    "    prompt = f\"{state.query}\"\n",
    "\n",
    "    structured_model = llm.with_structured_output(TaskList)\n",
    "    response = structured_model.invoke([SystemMessage(content=\"\"\"You analyze UI queries and generate structured tasks.\n",
    "                                                      you are assistant for craete react component code but in mullti step process.\n",
    "                                                      you should generate each of tag element with style and attributes recursively.\n",
    "\n",
    "                                                      for done this recursively you should the user query divide to some task and do it step by step.\n",
    "                                                      now create sub task of user query for generate component code for each tag element recursively.\n",
    "                                                      \"\"\"),\n",
    "                           HumanMessage(content=prompt)])\n",
    "    \n",
    "    logging.info(f\"Task Processing Response: {response.tasks}\\n ======================================= \\n\")\n",
    "    state.tasks = [ {\"title\": task } for task in response.tasks]\n",
    "    return state"
   ]
  },
  {
   "cell_type": "code",
   "execution_count": 9,
   "metadata": {},
   "outputs": [],
   "source": [
    "from pydantic import BaseModel, Field, ValidationError\n",
    "\n",
    "class JsxTask(BaseModel):\n",
    "    jsx : str = Field(description=\" string of jsx code\")\n",
    "    elementTypes : List[str] = Field(description=\"list of element types required in the jsx code\")\n",
    "\n",
    "# **Generate JSX Using LLM**\n",
    "def generate_code(state: AgentState):\n",
    "    for task in state.tasks:\n",
    "        context = ''.join([f\"elementType({c['elementType']}): {c['description']}\\n\\n\" for c in data])\n",
    "\n",
    "        prompt = f\"\"\"\n",
    "        Task: {task.title}\\n\\n Context: {context}\\n\\n\n",
    "        \"\"\"\n",
    "        structured_model = llm.with_structured_output(ComponentDefinition)\n",
    "        \n",
    "        response = structured_model.invoke([SystemMessage(content=\"\"\" you are great developer and you can create react component code.\n",
    "                                                          You refine component react to match UI tasks. and list of element types used in JSX code\n",
    "                                                          but my element is specific and you can not use any element.\n",
    "                                                          in context exist my element with description and valid attribute, static attrs and dynamic attrs.\n",
    "                                                          static attrs is fixed and can not use state or props or ... and dynamic attrs can be used from state or props or static or ... .\n",
    "                                                          also can use style element in style attribute.       \n",
    "                                                          now you should generate jsx code for this task with element types.\n",
    "                                                          you can only use useState and props component and function in your code.\n",
    "                                                          \"\"\"),\n",
    "                               HumanMessage(content=prompt)])\n",
    "        \n",
    "        try:\n",
    "            logging.info(\"Generated component react for task '{}': \\n{}\".format(task.title, response))\n",
    "            component = ComponentDefinition(**response.model_dump())\n",
    "            newTask = TaskDefinition(title=task.title, result_task=component)\n",
    "            state.tasks[state.tasks.index(task)] = newTask\n",
    "        except ValidationError as exc:\n",
    "            print(repr(exc.errors()[0]['type']))\n",
    "            #> 'missing'\n",
    "        \n",
    "    \n",
    "    return state"
   ]
  },
  {
   "cell_type": "code",
   "execution_count": 10,
   "metadata": {},
   "outputs": [],
   "source": [
    "# **Merge All JSX into a Final Component**\n",
    "def merge_code(state: AgentState):\n",
    "    context = ''.join([f\"elementType({c['elementType']}): {c['description']}\\n\\n\" for c in data])\n",
    "\n",
    "    tasksData = [{\"title\":task.title, \"result_task\": task.result_task.model_dump() if task.result_task else \"\"} for task in state.tasks]\n",
    "\n",
    "    prompt = f\"\"\"the user query is: {state.query}.\\n\\n \n",
    "    at the first we break the user query to sub tasks and recusive generate component code for each of them, this is of sub task and\n",
    "    \n",
    "    generated sub tasks: {tasksData}.\n",
    "    context: {context}.\n",
    "    \n",
    "    \"\"\"\n",
    "    \n",
    "    structured_model = llm.with_structured_output(ComponentDefinition)\n",
    "    response = structured_model.invoke([SystemMessage(content=\"\"\"You are great developer and you can create react component code.\n",
    "                                                      There was one query and divide that to some tasks and component react for each of them.\n",
    "                                                      You should only use this sub task and component data and combine that for answer the main query in single react component.\n",
    "                                                      but my element is specific and you can not use any element.\n",
    "                                                          in context exist my element with description and valid attribute, static attrs and dynamic attrs.\n",
    "                                                          static attrs is fixed and can not use state or props or ... and dynamic attrs can be used from state or props or static or ... .\n",
    "                                                          also can use style element in style attribute.       \n",
    "                                                      you can only use useState and props component and function in your code.\n",
    "                                                      \"\"\"),\n",
    "                           HumanMessage(content=prompt)])\n",
    "\n",
    "    state.final_result = ComponentDefinition(**response.model_dump())\n",
    "    \n",
    "    logging.info(\"Final Generated React components :\\n {}\".format(response))\n",
    "    return state"
   ]
  },
  {
   "cell_type": "code",
   "execution_count": 11,
   "metadata": {},
   "outputs": [],
   "source": [
    "# **Merge All JSX into a Final Component**\n",
    "def generate_code_in_one_step(state: AgentState):\n",
    "    context = ''.join([f\"elementType({c['elementType']}): {c['description']}\\n\\n\" for c in data])\n",
    "\n",
    "    prompt = f\"\"\"the user query is: {state.query}.\\n\\n     \n",
    "    context: {context}.\n",
    "    \"\"\"\n",
    "    \n",
    "    structured_model = llm.with_structured_output(ComponentDefinition)\n",
    "    response = structured_model.invoke([SystemMessage(content=\"\"\"You are great developer and you can create react component code.\n",
    "                                                      you should generate jsx code for this task with element types.\n",
    "                                                      but my element is specific and you can not use any element.\n",
    "                                                          in context exist my element with description and valid attribute, static attrs and dynamic attrs.\n",
    "                                                          static attrs is fixed and can not use state or props or ... and dynamic attrs can be used from state or props or static or ... .\n",
    "                                                        also can use style element in style attribute.  \n",
    "                                                        you can only use useState and props component and function in your code.\n",
    "                                                      \"\"\"),\n",
    "                           HumanMessage(content=prompt)])\n",
    "\n",
    "    state.final_result = ComponentDefinition(**response.model_dump())\n",
    "    \n",
    "    logging.info(\"Final Generated React components :\\n {}\".format(response))\n",
    "    return state"
   ]
  },
  {
   "cell_type": "code",
   "execution_count": 12,
   "metadata": {},
   "outputs": [],
   "source": [
    "from typing import Literal\n",
    "\n",
    "def decide_mood(state) -> Literal[\"process_query\", END]:\n",
    "    # Often, we will use state to decide on the next node to visit\n",
    "    if state.is_relevant == True:\n",
    "        return \"process_query\"\n",
    "    \n",
    "    else:\n",
    "        return END"
   ]
  },
  {
   "cell_type": "code",
   "execution_count": 13,
   "metadata": {},
   "outputs": [],
   "source": [
    "# **Define Graph Workflow**\n",
    "workflow = StateGraph(AgentState)\n",
    "\n",
    "# Add Nodes\n",
    "workflow.add_node(\"check_relevance\", check_relevance)\n",
    "workflow.add_node(\"process_query\", process_query)\n",
    "workflow.add_node(\"generate_code\", generate_code)\n",
    "workflow.add_node(\"merge_code\", merge_code)\n",
    "\n",
    "workflow.add_edge(START, \"check_relevance\")\n",
    "\n",
    "# **Conditional Edge:**\n",
    "workflow.add_conditional_edges(\n",
    "    \"check_relevance\",  # From\n",
    "    decide_mood\n",
    ")\n",
    "\n",
    "# Normal Edges\n",
    "workflow.add_edge(\"process_query\", \"generate_code\")\n",
    "workflow.add_edge(\"generate_code\", \"merge_code\")\n",
    "workflow.add_edge(\"merge_code\", END)\n",
    "\n",
    "# Compile and Run\n",
    "graph = workflow.compile()"
   ]
  },
  {
   "cell_type": "code",
   "execution_count": 14,
   "metadata": {},
   "outputs": [],
   "source": [
    "from typing import Literal\n",
    "\n",
    "def decide_mood2(state) -> Literal[\"generate_code_in_one_step\", END]:\n",
    "    # Often, we will use state to decide on the next node to visit\n",
    "    if state.is_relevant == True:\n",
    "        return \"generate_code_in_one_step\"\n",
    "    \n",
    "    else:\n",
    "        return END"
   ]
  },
  {
   "cell_type": "code",
   "execution_count": 15,
   "metadata": {},
   "outputs": [],
   "source": [
    "# **Define Graph Workflow**\n",
    "workflow2 = StateGraph(AgentState)\n",
    "\n",
    "# Add Nodes\n",
    "workflow2.add_node(\"check_relevance\", check_relevance)\n",
    "workflow2.add_node(\"generate_code_in_one_step\", generate_code_in_one_step)\n",
    "\n",
    "workflow2.add_edge(START, \"check_relevance\")\n",
    "\n",
    "# **Conditional Edge:**\n",
    "workflow2.add_conditional_edges(\n",
    "    \"check_relevance\",  # From\n",
    "    decide_mood2\n",
    ")\n",
    "\n",
    "# Normal Edges\n",
    "workflow2.add_edge(\"generate_code_in_one_step\", END)\n",
    "\n",
    "# Compile and Run\n",
    "graph2 = workflow2.compile()"
   ]
  },
  {
   "cell_type": "code",
   "execution_count": 16,
   "metadata": {},
   "outputs": [
    {
     "data": {
      "image/png": "[encoded data removed]",
      "text/plain": [
       "<IPython.core.display.Image object>"
      ]
     },
     "metadata": {},
     "output_type": "display_data"
    }
   ],
   "source": [
    "from IPython.display import Image, display\n",
    "display(Image(graph.get_graph().draw_mermaid_png()))"
   ]
  },
  {
   "cell_type": "code",
   "execution_count": 17,
   "metadata": {},
   "outputs": [
    {
     "data": {
      "image/png": "[encoded data removed]",
      "text/plain": [
       "<IPython.core.display.Image object>"
      ]
     },
     "metadata": {},
     "output_type": "display_data"
    }
   ],
   "source": [
    "from IPython.display import Image, display\n",
    "display(Image(graph2.get_graph().draw_mermaid_png()))"
   ]
  },
  {
   "cell_type": "code",
   "execution_count": 18,
   "metadata": {},
   "outputs": [],
   "source": [
    "# i want have list of complex varius queries for test the model\n",
    "queries = [\n",
    "    \"\"\"I want a beautifuly header:\n",
    "                             in the right a image box have logo and title of website.\n",
    "                             in the left many item link that each of them have a icon and text.\n",
    "                             like : link to shoppage, link to about us page, link to contact us page.\n",
    "                             and at the end of left side a button for login.\"\"\",\n",
    "    \"\"\"I want a form for register user:\n",
    "                                have a input for username, email, password and repeat password.\n",
    "                                also have a button for submit form.\"\"\",\n",
    "    \"\"\"I want a list of product:\n",
    "                                have a image for each product, title of product, price of product and a button for add to cart.\"\"\",\n",
    "    \"\"\"I want a list of post:\n",
    "                                have a image for each post, title of post, description of post and a button for read more.\"\"\",\n",
    "]"
   ]
  },
  {
   "cell_type": "code",
   "execution_count": 21,
   "metadata": {},
   "outputs": [
    {
     "name": "stderr",
     "output_type": "stream",
     "text": [
      "2025-02-28 10:41:22,731 - HTTP Request: POST https://models.inference.ai.azure.com/chat/completions \"HTTP/1.1 200 OK\"\n",
      "2025-02-28 10:41:22,737 - Relevance Check Response: True\n",
      "2025-02-28 10:41:52,476 - HTTP Request: POST https://models.inference.ai.azure.com/chat/completions \"HTTP/1.1 200 OK\"\n",
      "2025-02-28 10:41:52,481 - Final Generated React components :\n",
      " title='User Registration Form' description='A form for registering a new user with inputs for username, email, password, and repeat password, along with a submit button.' states=[StateDefinition(name='username', defaultValue='', type='STRING'), StateDefinition(name='email', defaultValue='', type='STRING'), StateDefinition(name='password', defaultValue='', type='STRING'), StateDefinition(name='repeatPassword', defaultValue='', type='STRING'), StateDefinition(name='loading', defaultValue=False, type='BOOLEAN')] props=[PropDefinition(name='onSubmit', type='FUNCTION')] functions=[] jsx_code=\"<KdFormLoader loading={loading} errorMode='onSubmit'>\\n  <KdpaInput\\n    label='Username'\\n    placeholder='Enter your username'\\n    variant='outlined'\\n    type='text'\\n    defaultValue={username}\\n    title='username'\\n  />\\n  <KdpaInput\\n    label='Email'\\n    placeholder='Enter your email'\\n    variant='outlined'\\n    type='email'\\n    defaultValue={email}\\n    title='email'\\n  />\\n  <KdpaInput\\n    label='Password'\\n    placeholder='Enter your password'\\n    variant='outlined'\\n    type='password'\\n    defaultValue={password}\\n    title='password'\\n  />\\n  <KdpaInput\\n    label='Repeat Password'\\n    placeholder='Repeat your password'\\n    variant='outlined'\\n    type='password'\\n    defaultValue={repeatPassword}\\n    title='repeatPassword'\\n  />\\n  <KdpaPrimaryButton\\n    variant='contained'\\n    loading={loading}\\n    title='Submit'\\n  />\\n</KdFormLoader>\" component_code=\"const UserRegistrationForm = (props) => {\\n  const [username, setUsername] = useState('');\\n  const [email, setEmail] = useState('');\\n  const [password, setPassword] = useState('');\\n  const [repeatPassword, setRepeatPassword] = useState('');\\n  const [loading, setLoading] = useState(false);\\n\\n  const handleSubmit = () => {\\n    setLoading(true);\\n    // Add form submission logic here\\n    props.onSubmit({ username, email, password });\\n    setLoading(false);\\n  };\\n\\n  return (\\n    <KdFormLoader loading={loading} errorMode='onSubmit'>\\n      <KdpaInput\\n        label='Username'\\n        placeholder='Enter your username'\\n        variant='outlined'\\n        type='text'\\n        defaultValue={username}\\n        title='username'\\n      />\\n      <KdpaInput\\n        label='Email'\\n        placeholder='Enter your email'\\n        variant='outlined'\\n        type='email'\\n        defaultValue={email}\\n        title='email'\\n      />\\n      <KdpaInput\\n        label='Password'\\n        placeholder='Enter your password'\\n        variant='outlined'\\n        type='password'\\n        defaultValue={password}\\n        title='password'\\n      />\\n      <KdpaInput\\n        label='Repeat Password'\\n        placeholder='Repeat your password'\\n        variant='outlined'\\n        type='password'\\n        defaultValue={repeatPassword}\\n        title='repeatPassword'\\n      />\\n      <KdpaPrimaryButton\\n        variant='contained'\\n        loading={loading}\\n        title='Submit'\\n        onClick={handleSubmit}\\n      />\\n    </KdFormLoader>\\n  );\\n};\\n\\nexport default UserRegistrationForm;\" elementTypes=['FORM_LOADER', 'TEXT_BOX', 'BUTTON']\n"
     ]
    }
   ],
   "source": [
    "initial_stateee = AgentState(query=queries[1])\n",
    "\n",
    "res = graph2.invoke(initial_stateee)"
   ]
  },
  {
   "cell_type": "code",
   "execution_count": 22,
   "metadata": {},
   "outputs": [],
   "source": [
    "agent_state = AgentState(**res)\n",
    "\n",
    "with open(\"agent_state2.json\", \"w\", encoding=\"utf-8\") as f:\n",
    "    f.write(agent_state.model_dump_json(indent=4))\n",
    "\n",
    "with open(\"Component2.jsx\", \"w\", encoding=\"utf-8\") as f:\n",
    "    f.write(agent_state.final_result.component_code)\n"
   ]
  }
 ],
 "metadata": {
  "kernelspec": {
   "display_name": ".venv",
   "language": "python",
   "name": "python3"
  },
  "language_info": {
   "codemirror_mode": {
    "name": "ipython",
    "version": 3
   },
   "file_extension": ".py",
   "mimetype": "text/x-python",
   "name": "python",
   "nbconvert_exporter": "python",
   "pygments_lexer": "ipython3",
   "version": "3.10.9"
  }
 },
 "nbformat": 4,
 "nbformat_minor": 2
}
